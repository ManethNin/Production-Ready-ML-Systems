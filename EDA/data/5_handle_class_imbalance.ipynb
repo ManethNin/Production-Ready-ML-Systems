{
 "cells": [
  {
   "cell_type": "code",
   "execution_count": 27,
   "id": "24eed228",
   "metadata": {},
   "outputs": [
    {
     "name": "stdout",
     "output_type": "stream",
     "text": [
      "Requirement already satisfied: numpy in c:\\users\\redtech\\anaconda3\\envs\\eda\\lib\\site-packages (from -r requirements.txt (line 1)) (2.3.1)\n",
      "Requirement already satisfied: pandas in c:\\users\\redtech\\anaconda3\\envs\\eda\\lib\\site-packages (from -r requirements.txt (line 2)) (2.3.1)\n",
      "Requirement already satisfied: scikit-learn in c:\\users\\redtech\\anaconda3\\envs\\eda\\lib\\site-packages (from -r requirements.txt (line 3)) (1.6.1)\n",
      "Requirement already satisfied: openai in c:\\users\\redtech\\anaconda3\\envs\\eda\\lib\\site-packages (from -r requirements.txt (line 4)) (1.95.1)\n",
      "Requirement already satisfied: groq in c:\\users\\redtech\\anaconda3\\envs\\eda\\lib\\site-packages (from -r requirements.txt (line 5)) (0.30.0)\n",
      "Requirement already satisfied: seaborn in c:\\users\\redtech\\anaconda3\\envs\\eda\\lib\\site-packages (from -r requirements.txt (line 6)) (0.13.2)\n",
      "Requirement already satisfied: matplotlib in c:\\users\\redtech\\anaconda3\\envs\\eda\\lib\\site-packages (from -r requirements.txt (line 7)) (3.10.3)\n",
      "Requirement already satisfied: dotenv in c:\\users\\redtech\\anaconda3\\envs\\eda\\lib\\site-packages (from -r requirements.txt (line 8)) (0.9.9)\n",
      "Requirement already satisfied: imbalanced-learn in c:\\users\\redtech\\anaconda3\\envs\\eda\\lib\\site-packages (from -r requirements.txt (line 9)) (0.13.0)\n",
      "Requirement already satisfied: python-dateutil>=2.8.2 in c:\\users\\redtech\\anaconda3\\envs\\eda\\lib\\site-packages (from pandas->-r requirements.txt (line 2)) (2.9.0.post0)\n",
      "Requirement already satisfied: pytz>=2020.1 in c:\\users\\redtech\\anaconda3\\envs\\eda\\lib\\site-packages (from pandas->-r requirements.txt (line 2)) (2025.2)\n",
      "Requirement already satisfied: tzdata>=2022.7 in c:\\users\\redtech\\anaconda3\\envs\\eda\\lib\\site-packages (from pandas->-r requirements.txt (line 2)) (2025.2)\n",
      "Requirement already satisfied: scipy>=1.6.0 in c:\\users\\redtech\\anaconda3\\envs\\eda\\lib\\site-packages (from scikit-learn->-r requirements.txt (line 3)) (1.16.0)\n",
      "Requirement already satisfied: joblib>=1.2.0 in c:\\users\\redtech\\anaconda3\\envs\\eda\\lib\\site-packages (from scikit-learn->-r requirements.txt (line 3)) (1.5.1)\n",
      "Requirement already satisfied: threadpoolctl>=3.1.0 in c:\\users\\redtech\\anaconda3\\envs\\eda\\lib\\site-packages (from scikit-learn->-r requirements.txt (line 3)) (3.6.0)\n",
      "Requirement already satisfied: anyio<5,>=3.5.0 in c:\\users\\redtech\\anaconda3\\envs\\eda\\lib\\site-packages (from openai->-r requirements.txt (line 4)) (4.9.0)\n",
      "Requirement already satisfied: distro<2,>=1.7.0 in c:\\users\\redtech\\anaconda3\\envs\\eda\\lib\\site-packages (from openai->-r requirements.txt (line 4)) (1.9.0)\n",
      "Requirement already satisfied: httpx<1,>=0.23.0 in c:\\users\\redtech\\anaconda3\\envs\\eda\\lib\\site-packages (from openai->-r requirements.txt (line 4)) (0.28.1)\n",
      "Requirement already satisfied: jiter<1,>=0.4.0 in c:\\users\\redtech\\anaconda3\\envs\\eda\\lib\\site-packages (from openai->-r requirements.txt (line 4)) (0.10.0)\n",
      "Requirement already satisfied: pydantic<3,>=1.9.0 in c:\\users\\redtech\\anaconda3\\envs\\eda\\lib\\site-packages (from openai->-r requirements.txt (line 4)) (2.11.7)\n",
      "Requirement already satisfied: sniffio in c:\\users\\redtech\\anaconda3\\envs\\eda\\lib\\site-packages (from openai->-r requirements.txt (line 4)) (1.3.1)\n",
      "Requirement already satisfied: tqdm>4 in c:\\users\\redtech\\anaconda3\\envs\\eda\\lib\\site-packages (from openai->-r requirements.txt (line 4)) (4.67.1)\n",
      "Requirement already satisfied: typing-extensions<5,>=4.11 in c:\\users\\redtech\\anaconda3\\envs\\eda\\lib\\site-packages (from openai->-r requirements.txt (line 4)) (4.14.1)\n",
      "Requirement already satisfied: idna>=2.8 in c:\\users\\redtech\\anaconda3\\envs\\eda\\lib\\site-packages (from anyio<5,>=3.5.0->openai->-r requirements.txt (line 4)) (3.10)\n",
      "Requirement already satisfied: certifi in c:\\users\\redtech\\anaconda3\\envs\\eda\\lib\\site-packages (from httpx<1,>=0.23.0->openai->-r requirements.txt (line 4)) (2025.7.14)\n",
      "Requirement already satisfied: httpcore==1.* in c:\\users\\redtech\\anaconda3\\envs\\eda\\lib\\site-packages (from httpx<1,>=0.23.0->openai->-r requirements.txt (line 4)) (1.0.9)\n",
      "Requirement already satisfied: h11>=0.16 in c:\\users\\redtech\\anaconda3\\envs\\eda\\lib\\site-packages (from httpcore==1.*->httpx<1,>=0.23.0->openai->-r requirements.txt (line 4)) (0.16.0)\n",
      "Requirement already satisfied: annotated-types>=0.6.0 in c:\\users\\redtech\\anaconda3\\envs\\eda\\lib\\site-packages (from pydantic<3,>=1.9.0->openai->-r requirements.txt (line 4)) (0.7.0)\n",
      "Requirement already satisfied: pydantic-core==2.33.2 in c:\\users\\redtech\\anaconda3\\envs\\eda\\lib\\site-packages (from pydantic<3,>=1.9.0->openai->-r requirements.txt (line 4)) (2.33.2)\n",
      "Requirement already satisfied: typing-inspection>=0.4.0 in c:\\users\\redtech\\anaconda3\\envs\\eda\\lib\\site-packages (from pydantic<3,>=1.9.0->openai->-r requirements.txt (line 4)) (0.4.1)\n",
      "Requirement already satisfied: contourpy>=1.0.1 in c:\\users\\redtech\\anaconda3\\envs\\eda\\lib\\site-packages (from matplotlib->-r requirements.txt (line 7)) (1.3.2)\n",
      "Requirement already satisfied: cycler>=0.10 in c:\\users\\redtech\\anaconda3\\envs\\eda\\lib\\site-packages (from matplotlib->-r requirements.txt (line 7)) (0.12.1)\n",
      "Requirement already satisfied: fonttools>=4.22.0 in c:\\users\\redtech\\anaconda3\\envs\\eda\\lib\\site-packages (from matplotlib->-r requirements.txt (line 7)) (4.58.5)\n",
      "Requirement already satisfied: kiwisolver>=1.3.1 in c:\\users\\redtech\\anaconda3\\envs\\eda\\lib\\site-packages (from matplotlib->-r requirements.txt (line 7)) (1.4.8)\n",
      "Requirement already satisfied: packaging>=20.0 in c:\\users\\redtech\\anaconda3\\envs\\eda\\lib\\site-packages (from matplotlib->-r requirements.txt (line 7)) (25.0)\n",
      "Requirement already satisfied: pillow>=8 in c:\\users\\redtech\\anaconda3\\envs\\eda\\lib\\site-packages (from matplotlib->-r requirements.txt (line 7)) (11.3.0)\n",
      "Requirement already satisfied: pyparsing>=2.3.1 in c:\\users\\redtech\\anaconda3\\envs\\eda\\lib\\site-packages (from matplotlib->-r requirements.txt (line 7)) (3.2.3)\n",
      "Requirement already satisfied: python-dotenv in c:\\users\\redtech\\anaconda3\\envs\\eda\\lib\\site-packages (from dotenv->-r requirements.txt (line 8)) (1.1.1)\n",
      "Requirement already satisfied: sklearn-compat<1,>=0.1 in c:\\users\\redtech\\anaconda3\\envs\\eda\\lib\\site-packages (from imbalanced-learn->-r requirements.txt (line 9)) (0.1.3)\n",
      "Requirement already satisfied: six>=1.5 in c:\\users\\redtech\\anaconda3\\envs\\eda\\lib\\site-packages (from python-dateutil>=2.8.2->pandas->-r requirements.txt (line 2)) (1.17.0)\n",
      "Requirement already satisfied: colorama in c:\\users\\redtech\\anaconda3\\envs\\eda\\lib\\site-packages (from tqdm>4->openai->-r requirements.txt (line 4)) (0.4.6)\n"
     ]
    }
   ],
   "source": [
    "!pip install -r  requirements.txt"
   ]
  },
  {
   "cell_type": "code",
   "execution_count": 28,
   "id": "5f7719d7",
   "metadata": {},
   "outputs": [],
   "source": [
    "import pandas as pd\n",
    "import numpy as np\n",
    "from imblearn.over_sampling import SMOTE\n",
    "import matplotlib.pyplot as plt\n",
    "import seaborn as sns\n",
    "from sklearn.model_selection import train_test_split"
   ]
  },
  {
   "cell_type": "code",
   "execution_count": 29,
   "id": "6ace15bd",
   "metadata": {},
   "outputs": [
    {
     "data": {
      "text/html": [
       "<div>\n",
       "<style scoped>\n",
       "    .dataframe tbody tr th:only-of-type {\n",
       "        vertical-align: middle;\n",
       "    }\n",
       "\n",
       "    .dataframe tbody tr th {\n",
       "        vertical-align: top;\n",
       "    }\n",
       "\n",
       "    .dataframe thead th {\n",
       "        text-align: right;\n",
       "    }\n",
       "</style>\n",
       "<table border=\"1\" class=\"dataframe\">\n",
       "  <thead>\n",
       "    <tr style=\"text-align: right;\">\n",
       "      <th></th>\n",
       "      <th>Age</th>\n",
       "      <th>Tenure</th>\n",
       "      <th>Balance</th>\n",
       "      <th>NumOfProducts</th>\n",
       "      <th>HasCrCard</th>\n",
       "      <th>IsActiveMember</th>\n",
       "      <th>EstimatedSalary</th>\n",
       "      <th>Exited</th>\n",
       "      <th>credit Score Bins</th>\n",
       "      <th>Geography_France</th>\n",
       "      <th>Geography_Germany</th>\n",
       "      <th>Geography_Spain</th>\n",
       "      <th>Gender_Female</th>\n",
       "      <th>Gender_Male</th>\n",
       "    </tr>\n",
       "  </thead>\n",
       "  <tbody>\n",
       "    <tr>\n",
       "      <th>0</th>\n",
       "      <td>0.302971</td>\n",
       "      <td>-1.041760</td>\n",
       "      <td>-1.225848</td>\n",
       "      <td>1</td>\n",
       "      <td>1</td>\n",
       "      <td>1</td>\n",
       "      <td>0.021886</td>\n",
       "      <td>1</td>\n",
       "      <td>1</td>\n",
       "      <td>True</td>\n",
       "      <td>False</td>\n",
       "      <td>False</td>\n",
       "      <td>True</td>\n",
       "      <td>False</td>\n",
       "    </tr>\n",
       "    <tr>\n",
       "      <th>1</th>\n",
       "      <td>0.204855</td>\n",
       "      <td>-1.387538</td>\n",
       "      <td>0.117350</td>\n",
       "      <td>1</td>\n",
       "      <td>0</td>\n",
       "      <td>1</td>\n",
       "      <td>0.216534</td>\n",
       "      <td>0</td>\n",
       "      <td>1</td>\n",
       "      <td>False</td>\n",
       "      <td>False</td>\n",
       "      <td>True</td>\n",
       "      <td>True</td>\n",
       "      <td>False</td>\n",
       "    </tr>\n",
       "    <tr>\n",
       "      <th>2</th>\n",
       "      <td>0.302971</td>\n",
       "      <td>1.032908</td>\n",
       "      <td>1.333053</td>\n",
       "      <td>3</td>\n",
       "      <td>1</td>\n",
       "      <td>0</td>\n",
       "      <td>0.240687</td>\n",
       "      <td>1</td>\n",
       "      <td>0</td>\n",
       "      <td>True</td>\n",
       "      <td>False</td>\n",
       "      <td>False</td>\n",
       "      <td>True</td>\n",
       "      <td>False</td>\n",
       "    </tr>\n",
       "    <tr>\n",
       "      <th>3</th>\n",
       "      <td>0.000000</td>\n",
       "      <td>-1.387538</td>\n",
       "      <td>-1.225848</td>\n",
       "      <td>2</td>\n",
       "      <td>0</td>\n",
       "      <td>0</td>\n",
       "      <td>-0.108918</td>\n",
       "      <td>0</td>\n",
       "      <td>2</td>\n",
       "      <td>True</td>\n",
       "      <td>False</td>\n",
       "      <td>False</td>\n",
       "      <td>True</td>\n",
       "      <td>False</td>\n",
       "    </tr>\n",
       "    <tr>\n",
       "      <th>4</th>\n",
       "      <td>0.401087</td>\n",
       "      <td>-1.041760</td>\n",
       "      <td>0.785728</td>\n",
       "      <td>1</td>\n",
       "      <td>1</td>\n",
       "      <td>1</td>\n",
       "      <td>-0.365276</td>\n",
       "      <td>0</td>\n",
       "      <td>4</td>\n",
       "      <td>False</td>\n",
       "      <td>False</td>\n",
       "      <td>True</td>\n",
       "      <td>True</td>\n",
       "      <td>False</td>\n",
       "    </tr>\n",
       "    <tr>\n",
       "      <th>...</th>\n",
       "      <td>...</td>\n",
       "      <td>...</td>\n",
       "      <td>...</td>\n",
       "      <td>...</td>\n",
       "      <td>...</td>\n",
       "      <td>...</td>\n",
       "      <td>...</td>\n",
       "      <td>...</td>\n",
       "      <td>...</td>\n",
       "      <td>...</td>\n",
       "      <td>...</td>\n",
       "      <td>...</td>\n",
       "      <td>...</td>\n",
       "      <td>...</td>\n",
       "    </tr>\n",
       "    <tr>\n",
       "      <th>9995</th>\n",
       "      <td>0.008622</td>\n",
       "      <td>-0.004426</td>\n",
       "      <td>-1.225848</td>\n",
       "      <td>2</td>\n",
       "      <td>1</td>\n",
       "      <td>0</td>\n",
       "      <td>-0.066419</td>\n",
       "      <td>0</td>\n",
       "      <td>3</td>\n",
       "      <td>True</td>\n",
       "      <td>False</td>\n",
       "      <td>False</td>\n",
       "      <td>False</td>\n",
       "      <td>True</td>\n",
       "    </tr>\n",
       "    <tr>\n",
       "      <th>9996</th>\n",
       "      <td>-0.383844</td>\n",
       "      <td>1.724464</td>\n",
       "      <td>-0.306379</td>\n",
       "      <td>1</td>\n",
       "      <td>1</td>\n",
       "      <td>1</td>\n",
       "      <td>0.027988</td>\n",
       "      <td>0</td>\n",
       "      <td>0</td>\n",
       "      <td>True</td>\n",
       "      <td>False</td>\n",
       "      <td>False</td>\n",
       "      <td>False</td>\n",
       "      <td>True</td>\n",
       "    </tr>\n",
       "    <tr>\n",
       "      <th>9997</th>\n",
       "      <td>-0.285728</td>\n",
       "      <td>0.687130</td>\n",
       "      <td>-1.225848</td>\n",
       "      <td>1</td>\n",
       "      <td>0</td>\n",
       "      <td>1</td>\n",
       "      <td>-1.008643</td>\n",
       "      <td>1</td>\n",
       "      <td>2</td>\n",
       "      <td>True</td>\n",
       "      <td>False</td>\n",
       "      <td>False</td>\n",
       "      <td>True</td>\n",
       "      <td>False</td>\n",
       "    </tr>\n",
       "    <tr>\n",
       "      <th>9998</th>\n",
       "      <td>0.302971</td>\n",
       "      <td>-0.695982</td>\n",
       "      <td>-0.022608</td>\n",
       "      <td>2</td>\n",
       "      <td>1</td>\n",
       "      <td>0</td>\n",
       "      <td>-0.125231</td>\n",
       "      <td>1</td>\n",
       "      <td>3</td>\n",
       "      <td>False</td>\n",
       "      <td>True</td>\n",
       "      <td>False</td>\n",
       "      <td>False</td>\n",
       "      <td>True</td>\n",
       "    </tr>\n",
       "    <tr>\n",
       "      <th>9999</th>\n",
       "      <td>-1.070659</td>\n",
       "      <td>-0.350204</td>\n",
       "      <td>0.859965</td>\n",
       "      <td>1</td>\n",
       "      <td>1</td>\n",
       "      <td>0</td>\n",
       "      <td>-1.076370</td>\n",
       "      <td>0</td>\n",
       "      <td>3</td>\n",
       "      <td>True</td>\n",
       "      <td>False</td>\n",
       "      <td>False</td>\n",
       "      <td>True</td>\n",
       "      <td>False</td>\n",
       "    </tr>\n",
       "  </tbody>\n",
       "</table>\n",
       "<p>10000 rows × 14 columns</p>\n",
       "</div>"
      ],
      "text/plain": [
       "           Age    Tenure   Balance  NumOfProducts  HasCrCard  IsActiveMember  \\\n",
       "0     0.302971 -1.041760 -1.225848              1          1               1   \n",
       "1     0.204855 -1.387538  0.117350              1          0               1   \n",
       "2     0.302971  1.032908  1.333053              3          1               0   \n",
       "3     0.000000 -1.387538 -1.225848              2          0               0   \n",
       "4     0.401087 -1.041760  0.785728              1          1               1   \n",
       "...        ...       ...       ...            ...        ...             ...   \n",
       "9995  0.008622 -0.004426 -1.225848              2          1               0   \n",
       "9996 -0.383844  1.724464 -0.306379              1          1               1   \n",
       "9997 -0.285728  0.687130 -1.225848              1          0               1   \n",
       "9998  0.302971 -0.695982 -0.022608              2          1               0   \n",
       "9999 -1.070659 -0.350204  0.859965              1          1               0   \n",
       "\n",
       "      EstimatedSalary  Exited  credit Score Bins  Geography_France  \\\n",
       "0            0.021886       1                  1              True   \n",
       "1            0.216534       0                  1             False   \n",
       "2            0.240687       1                  0              True   \n",
       "3           -0.108918       0                  2              True   \n",
       "4           -0.365276       0                  4             False   \n",
       "...               ...     ...                ...               ...   \n",
       "9995        -0.066419       0                  3              True   \n",
       "9996         0.027988       0                  0              True   \n",
       "9997        -1.008643       1                  2              True   \n",
       "9998        -0.125231       1                  3             False   \n",
       "9999        -1.076370       0                  3              True   \n",
       "\n",
       "      Geography_Germany  Geography_Spain  Gender_Female  Gender_Male  \n",
       "0                 False            False           True        False  \n",
       "1                 False             True           True        False  \n",
       "2                 False            False           True        False  \n",
       "3                 False            False           True        False  \n",
       "4                 False             True           True        False  \n",
       "...                 ...              ...            ...          ...  \n",
       "9995              False            False          False         True  \n",
       "9996              False            False          False         True  \n",
       "9997              False            False           True        False  \n",
       "9998               True            False          False         True  \n",
       "9999              False            False           True        False  \n",
       "\n",
       "[10000 rows x 14 columns]"
      ]
     },
     "execution_count": 29,
     "metadata": {},
     "output_type": "execute_result"
    }
   ],
   "source": [
    "df = pd.read_csv('processed\\CEHHbInToW_final.csv')\n",
    "df"
   ]
  },
  {
   "cell_type": "code",
   "execution_count": 30,
   "id": "bc18e54a",
   "metadata": {},
   "outputs": [
    {
     "data": {
      "text/html": [
       "<div>\n",
       "<style scoped>\n",
       "    .dataframe tbody tr th:only-of-type {\n",
       "        vertical-align: middle;\n",
       "    }\n",
       "\n",
       "    .dataframe tbody tr th {\n",
       "        vertical-align: top;\n",
       "    }\n",
       "\n",
       "    .dataframe thead th {\n",
       "        text-align: right;\n",
       "    }\n",
       "</style>\n",
       "<table border=\"1\" class=\"dataframe\">\n",
       "  <thead>\n",
       "    <tr style=\"text-align: right;\">\n",
       "      <th></th>\n",
       "      <th>Age</th>\n",
       "      <th>Tenure</th>\n",
       "      <th>Balance</th>\n",
       "      <th>NumOfProducts</th>\n",
       "      <th>HasCrCard</th>\n",
       "      <th>IsActiveMember</th>\n",
       "      <th>EstimatedSalary</th>\n",
       "      <th>Exited</th>\n",
       "      <th>credit Score Bins</th>\n",
       "      <th>Geography_France</th>\n",
       "      <th>Geography_Germany</th>\n",
       "      <th>Geography_Spain</th>\n",
       "      <th>Gender_Female</th>\n",
       "      <th>Gender_Male</th>\n",
       "    </tr>\n",
       "  </thead>\n",
       "  <tbody>\n",
       "  </tbody>\n",
       "</table>\n",
       "</div>"
      ],
      "text/plain": [
       "Empty DataFrame\n",
       "Columns: [Age, Tenure, Balance, NumOfProducts, HasCrCard, IsActiveMember, EstimatedSalary, Exited, credit Score Bins, Geography_France, Geography_Germany, Geography_Spain, Gender_Female, Gender_Male]\n",
       "Index: []"
      ]
     },
     "execution_count": 30,
     "metadata": {},
     "output_type": "execute_result"
    }
   ],
   "source": [
    "df.iloc[df.isnull().any(axis=1).values, :]"
   ]
  },
  {
   "cell_type": "code",
   "execution_count": 31,
   "id": "6bb2a771",
   "metadata": {},
   "outputs": [],
   "source": [
    "x = df.drop(columns=['Exited'])\n",
    "y = df['Exited']"
   ]
  },
  {
   "cell_type": "code",
   "execution_count": 32,
   "id": "972926c6",
   "metadata": {},
   "outputs": [],
   "source": [
    "X_train, X_test, y_train, y_test = train_test_split(x, y, test_size=0.2, random_state=42)"
   ]
  },
  {
   "cell_type": "code",
   "execution_count": null,
   "id": "6fe49a94",
   "metadata": {},
   "outputs": [],
   "source": [
    "SMOTE = SMOTE(random_state=42)\n",
    "X_train_resampled, y_train_resampled = SMOTE.fit_resample(X_train, y_train) # Here we have minor as 1 and major as 0. so need to upsample that 1 class"
   ]
  },
  {
   "cell_type": "code",
   "execution_count": 35,
   "id": "d181264f",
   "metadata": {},
   "outputs": [
    {
     "name": "stderr",
     "output_type": "stream",
     "text": [
      "C:\\Users\\REDTECH\\AppData\\Local\\Temp\\ipykernel_8892\\4037410885.py:2: FutureWarning: \n",
      "\n",
      "Passing `palette` without assigning `hue` is deprecated and will be removed in v0.14.0. Assign the `x` variable to `hue` and set `legend=False` for the same effect.\n",
      "\n",
      "  sns.countplot(x=y_train, palette='viridis')\n"
     ]
    },
    {
     "data": {
      "image/png": "[encoded data removed]",
      "text/plain": [
       "<Figure size 1000x600 with 1 Axes>"
      ]
     },
     "metadata": {},
     "output_type": "display_data"
    }
   ],
   "source": [
    "plt.figure(figsize=(10, 6))\n",
    "sns.countplot(x=y_train, palette='viridis')\n",
    "plt.title('Class Distribution Before SMOTE')\n",
    "plt.xlabel('Exited')\n",
    "plt.ylabel('Count')\n",
    "plt.show()"
   ]
  },
  {
   "cell_type": "code",
   "execution_count": 34,
   "id": "554298f7",
   "metadata": {},
   "outputs": [
    {
     "name": "stderr",
     "output_type": "stream",
     "text": [
      "C:\\Users\\REDTECH\\AppData\\Local\\Temp\\ipykernel_8892\\2412905286.py:2: FutureWarning: \n",
      "\n",
      "Passing `palette` without assigning `hue` is deprecated and will be removed in v0.14.0. Assign the `x` variable to `hue` and set `legend=False` for the same effect.\n",
      "\n",
      "  sns.countplot(x=y_train_resampled, palette='viridis')\n"
     ]
    },
    {
     "data": {
      "image/png": "[encoded data removed]",
      "text/plain": [
       "<Figure size 640x480 with 1 Axes>"
      ]
     },
     "metadata": {},
     "output_type": "display_data"
    }
   ],
   "source": [
    "plt.Figure(figsize=(10, 6))\n",
    "sns.countplot(x=y_train_resampled, palette='viridis')\n",
    "plt.title('Class Distribution After SMOTE')\n",
    "plt.xlabel('Exited')\n",
    "plt.ylabel('Count')\n",
    "plt.show()"
   ]
  },
  {
   "cell_type": "markdown",
   "id": "f1d9dccc",
   "metadata": {},
   "source": [
    "- We only upsample / downsample trainset. we keep test set as it is in real world"
   ]
  },
  {
   "cell_type": "code",
   "execution_count": null,
   "id": "c444ef97",
   "metadata": {},
   "outputs": [
    {
     "name": "stderr",
     "output_type": "stream",
     "text": [
      "C:\\Users\\REDTECH\\AppData\\Local\\Temp\\ipykernel_8892\\2408576404.py:2: FutureWarning: \n",
      "\n",
      "Passing `palette` without assigning `hue` is deprecated and will be removed in v0.14.0. Assign the `x` variable to `hue` and set `legend=False` for the same effect.\n",
      "\n",
      "  sns.countplot(x=y_test, palette='viridis')\n"
     ]
    },
    {
     "data": {
      "image/png": "[encoded data removed]",
      "text/plain": [
       "<Figure size 1000x600 with 1 Axes>"
      ]
     },
     "metadata": {},
     "output_type": "display_data"
    }
   ],
   "source": [
    "plt.figure(figsize=(10, 6))    \n",
    "sns.countplot(x=y_test, palette='viridis')\n",
    "plt.title('Class Distribution of Test Set')\n",
    "plt.xlabel('Exited')\n",
    "plt.ylabel('Count')\n",
    "plt.show()"
   ]
  },
  {
   "cell_type": "code",
   "execution_count": 39,
   "id": "9dec89c3",
   "metadata": {},
   "outputs": [],
   "source": [
    "np.savez('../../artifacts/X_train_resampled.npz', X_train_resampled)\n",
    "np.savez('../../artifacts/y_train_resampled.npz', y_train_resampled)\n",
    "np.savez('../../artifacts/X_test.npz', X_test)\n",
    "np.savez('../../artifacts/y_test.npz', y_test)"
   ]
  },
  {
   "cell_type": "code",
   "execution_count": null,
   "id": "b530260f",
   "metadata": {},
   "outputs": [],
   "source": []
  }
 ],
 "metadata": {
  "kernelspec": {
   "display_name": "eda",
   "language": "python",
   "name": "python3"
  },
  "language_info": {
   "codemirror_mode": {
    "name": "ipython",
    "version": 3
   },
   "file_extension": ".py",
   "mimetype": "text/x-python",
   "name": "python",
   "nbconvert_exporter": "python",
   "pygments_lexer": "ipython3",
   "version": "3.11.13"
  }
 },
 "nbformat": 4,
 "nbformat_minor": 5
}
